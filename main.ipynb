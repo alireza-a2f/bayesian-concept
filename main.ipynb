{
  "nbformat": 4,
  "nbformat_minor": 0,
  "metadata": {
    "colab": {
      "provenance": []
    },
    "kernelspec": {
      "name": "python3",
      "display_name": "Python 3"
    },
    "language_info": {
      "name": "python"
    }
  },
  "cells": [
    {
      "cell_type": "markdown",
      "source": [
        "# **Bayesian Concept**\n",
        "\n",
        "Bayesian analysis, a method of statistical inference (named for English mathematician Thomas Bayes) that allows one to combine prior information about a population parameter with evidence from information contained in a sample to guide the statistical inference process.\n",
        "\n",
        "---\n",
        "\n",
        "## Classical\n",
        "\n",
        "**Equaly likely**\n",
        "\n",
        "Chance of dice to be 4:\n",
        "\n",
        "$P(X=4)=1/6$\n",
        "\n",
        "Chance of two dices to have sum of 4:\n",
        "\n",
        "$P(X_1+X_2=4)=3/36$\n",
        "\n",
        "---\n",
        "\n",
        "## Frequentist\n",
        "\n",
        "**Relative frequency**\n",
        "\n",
        "If 1 packet is lost in 10,000 packets:\n",
        "\n",
        "$P(droppacket)=1/10000$\n",
        "\n",
        "---\n",
        "\n",
        "## Bayesian\n",
        "\n",
        "**Personal perspective**\n",
        "\n"
      ],
      "metadata": {
        "id": "7DSpUFIM48Bc"
      }
    },
    {
      "cell_type": "markdown",
      "source": [
        "# **Bayesian Inference**\n",
        "\n",
        "$P(A|B)=\\frac{P(A \\cap B)}{P(B)}$\n",
        "\n",
        "Students: 30\n",
        "\n",
        "Female: 9\n",
        "\n",
        "Computer Science: 12 (4 Female)\n",
        "\n",
        "$P(F)=\\frac{9}{30}$\n",
        "\n",
        "$P(CS)=\\frac{12}{30}$\n",
        "\n",
        "$P(F ∩ CS)=\\frac{4}{30}$\n",
        "\n",
        "$P(F|CS)=\\frac{P(F ∩ CS)}{P(CS)}=\\frac{\\frac{4}{30}}{\\frac{12}{30}}=\\frac{4}{12}$\n",
        "\n",
        "$P(CS|F)=\\frac{P(CS \\cap F)}{P(F)}=\\frac{\\frac{4}{30}}{\\frac{9}{30}}=\\frac{4}{9}$\n",
        "\n",
        "$P(F|CS^c)=\\frac{P(F ∩ CS^c)}{P(CS^c)}=\\frac{\\frac{5}{30}}{\\frac{18}{30}}=\\frac{5}{18}$\n",
        "\n",
        "---\n",
        "\n",
        "## Independency Condition\n",
        "\n",
        "$P(A|B)=P(A) \\Rightarrow P{(A \\cap B)}=P(A)×P(B)$\n",
        "\n",
        "$P(F|CS)=\\frac{4}{12} \\neq P(F) \\times P(CS)=\\frac{9}{30} \\times \\frac{12}{30} \\Rightarrow$ not independent\n",
        "\n",
        "---\n",
        "\n",
        "## Conditional Probability in another form\n",
        "\n",
        "$P(A|B)=\\frac{P(B|A)P(A)}{P(B|A)P(A)+P(B|A^c)P(A^c)}$\n",
        "\n",
        "$P(CS|F)=\\frac{P(F|CS)P(CS)}{P(F|CS)P(CS)+P(F|CS^c)P(CS^c)}=\\frac{\\frac{4}{12} \\times \\frac{12}{30}}{\\frac{4}{12} \\times \\frac{12}{30}+\\frac{5}{18} \\times \\frac{18}{30}}=\\frac{4}{9}$\n",
        "\n",
        "---\n",
        "\n",
        "$P(+|HIV)=0.977$\n",
        "\n",
        "$P(-|noHIV)=0.926$\n",
        "\n",
        "$P(HIV)=0.0026$\n",
        "\n",
        "$P(HIV|+)=\\frac{P(+|HIV)P(HIV)}{P(+|HIV)P(HIV)+P(+|noHIV)P(noHIV)}=\\frac{(0.977)(0.0026)}{(0.977)(0.0026)+(1-0.926)(1-0.0026)}=0.033$"
      ],
      "metadata": {
        "id": "Bcbu44dXaM1j"
      }
    },
    {
      "cell_type": "markdown",
      "source": [
        "# **Frequentist Inference**\n",
        "\n",
        "\\begin{equation}\n",
        "  P(x|\\theta)=\n",
        "  \\begin{cases}\n",
        "    {5 \\choose x}(\\frac{1}{2})^5, & \\text{if}\\ \\theta=fair \\\\\n",
        "    {5 \\choose x}(0.7)^x (0.3)^{5-x}, & \\text{if}\\ \\theta=loaded\n",
        "  \\end{cases}\n",
        "\\end{equation}\n",
        "$P(x|\\theta)={5 \\choose x}(\\frac{1}{2})^5I_{\\{\\theta=fair\\}}+{5 \\choose x}(0.7)^x (0.3)^{5-x}I_{\\{\\theta=loaded\\}}$"
      ],
      "metadata": {
        "id": "l2-ZnT4VFMTL"
      }
    },
    {
      "cell_type": "markdown",
      "source": [
        "# **Bayesian Inference**\n",
        "\n",
        "Prior: $P(\\theta=loaded)=0.6$\n",
        "\n",
        "\n",
        "$P(\\theta|x)=\\frac{P(x|\\theta)P(\\theta)}{\\sum_{\\theta}P(x|\\theta)P(\\theta)}=\\frac{{5 \\choose x}[(\\frac{1}{2})^5(0.4)I_{\\{\\theta=fair\\}}+(0.7)^x(0.3)^{5-x}(0.6)I_{\\{\\theta=loaded\\}}]}{{5 \\choose x}[(\\frac{1}{2})^5(0.4)+(0.7)^x(0.3)^{5-x}(0.6)]}$\n",
        "\n",
        "$P(\\theta|x=2)=\\frac{0.0125I_{\\{\\theta=fair\\}}+0.0079I_{\\{\\theta=loaded\\}}}{0.0125+0.0079}=0.612I_{\\{\\theta=fair\\}}+0.388I_{\\{\\theta=loaded\\}}$\n",
        "\n",
        "$P(\\theta=fair|x=2)=0.612$\n",
        "\n",
        "$P(\\theta=loaded|x=2)=0.388$\n",
        "\n",
        "---\n",
        "\n",
        "**Other Priors**:\n",
        "\n",
        "$P(\\theta=loaded)=0.5⇒P(\\theta=loaded|x=2)=0.297$\n",
        "\n",
        "$P(\\theta=loaded)=0.9⇒P(\\theta=loaded|x=2)=0.792$"
      ],
      "metadata": {
        "id": "IRP3HyWhmnKN"
      }
    },
    {
      "cell_type": "code",
      "source": [
        "import matplotlib.pyplot as plt\n",
        "import numpy as np\n",
        "\n",
        "n = 5 # number of coin drops\n",
        "x = 2 # number of head occurances\n",
        "\n",
        "X = [] # horizontal axis\n",
        "Y_loaded = [] # vertical axis for loaded coin\n",
        "Y_fair = [] # vertical axis for fair coin\n",
        "\n",
        "# loop from 0 upto 1 with 0.01 steps and calculating posteriors\n",
        "for prior in np.linspace(0, 1, 100):\n",
        "    posterior = ((0.7 ** x) * (0.3 ** (n - x)) * prior) / ((0.5 ** n) * (1 - prior) + (0.7 ** x) * (0.3 ** (n - x)) * prior)\n",
        "    X.append(prior)\n",
        "    Y_loaded.append(posterior)\n",
        "    Y_fair.append(1 - posterior)\n",
        "\n",
        "# plotting results\n",
        "plt.figure(figsize=(18, 6))\n",
        "\n",
        "plt.subplot(1, 2, 1)\n",
        "plt.plot(X, Y_loaded)\n",
        "plt.title(\"Loaded Coin\")\n",
        "plt.xlabel(\"Prior\")\n",
        "plt.ylabel(\"Posterior\")\n",
        "\n",
        "plt.subplot(1, 2, 2)\n",
        "plt.plot(X, Y_fair)\n",
        "plt.title(\"Fair Coin\")\n",
        "plt.xlabel(\"Prior\")\n",
        "plt.ylabel(\"Posterior\")\n",
        "\n",
        "plt.show()"
      ],
      "metadata": {
        "colab": {
          "base_uri": "https://localhost:8080/",
          "height": 404
        },
        "id": "PZUd7q5iycr8",
        "outputId": "65b59069-1673-43e0-e851-71a5d3a8406b"
      },
      "execution_count": null,
      "outputs": [
        {
          "output_type": "display_data",
          "data": {
            "text/plain": [
              "<Figure size 1296x432 with 2 Axes>"
            ],
            "image/png": "[encoded data removed]"
          },
          "metadata": {
            "needs_background": "light"
          }
        }
      ]
    }
  ]
}